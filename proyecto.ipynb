{
 "cells": [
  {
   "cell_type": "markdown",
   "metadata": {},
   "source": [
    "# Predicción de parkinson con muestras de tecleo"
   ]
  },
  {
   "cell_type": "markdown",
   "metadata": {},
   "source": []
  },
  {
   "cell_type": "markdown",
   "metadata": {},
   "source": [
    "# 1- Calculo de nqScore\n",
    "Este script procesa los datos de tecleo de cada paciente, calculando el nqScore en intervalos de 20 segundos. El nqScore se calcula utilizando todas las métricas disponibles (Key Pressed, Hold Duration, Key Release Time, Key Press Time) junto con el typing speed que se calculara en el intervalo anteriormente mencionado. Los resultados para cada paciente se guardan en un archivo CSV final que contiene el ID de cada paciente y sus nqScores en los diferentes intervalos."
   ]
  },
  {
   "cell_type": "code",
   "execution_count": 490,
   "metadata": {},
   "outputs": [],
   "source": [
    "import os\n",
    "import pandas as pd\n",
    "import numpy as np\n",
    "import matplotlib.pyplot as plt\n",
    "from sklearn.model_selection import train_test_split\n",
    "from tensorflow.keras.models import Sequential, load_model\n",
    "from tensorflow.keras.layers import Dense, GRU\n",
    "from sklearn.model_selection import train_test_split\n",
    "from sklearn.metrics import classification_report,confusion_matrix, ConfusionMatrixDisplay\n"
   ]
  },
  {
   "cell_type": "code",
   "execution_count": 491,
   "metadata": {},
   "outputs": [],
   "source": [
    "# Definir el intervalo en segundos\n",
    "intervalo_segundos = 20\n",
    "carpeta_csv = 'data_MIT-CSPD'\n",
    "excel = 'nqScores_pacientes20seg.csv'\n",
    "modelo = '20.h5'\n",
    "\n",
    "# Función para calcular el nqScore en un intervalo usando Hold Duration\n",
    "def calcular_nqScore(intervalo_df):\n",
    "    hold_times = intervalo_df['Hold Duration (s)'].values\n",
    "\n",
    "    # Dividir los hold times en ventanas de 20 segundos\n",
    "    scores = []\n",
    "\n",
    "    # Calcular el nqScore para el intervalo dado\n",
    "    if len(hold_times) > 0:\n",
    "        outliers_count = np.sum((hold_times < np.percentile(hold_times, 25) - 1.5 * (np.percentile(hold_times, 75) - np.percentile(hold_times, 25))) |\n",
    "                                (hold_times > np.percentile(hold_times, 75) + 1.5 * (np.percentile(hold_times, 75) - np.percentile(hold_times, 25))))\n",
    "\n",
    "        v_iqr = (np.percentile(hold_times, 75) - np.percentile(hold_times, 25)) / (np.percentile(hold_times, 75) + np.percentile(hold_times, 25))\n",
    "        histogram, _ = np.histogram(hold_times, bins=4, density=True)\n",
    "\n",
    "        # Crear el vector de características\n",
    "        features = [\n",
    "            outliers_count / len(hold_times),\n",
    "            v_iqr\n",
    "        ] + list(histogram)\n",
    "\n",
    "        # Calcular el nqScore como la media de las hold times\n",
    "        score = np.mean(hold_times)  # Puedes ajustar esto según lo que necesites\n",
    "        scores.append(score)\n",
    "\n",
    "    # Calcular el score promedio\n",
    "    nqScore = np.mean(scores) if scores else None\n",
    "    return nqScore\n",
    "\n",
    "# Crear un diccionario para almacenar los nqScores de cada paciente\n",
    "nqScores_pacientes = {}"
   ]
  },
  {
   "cell_type": "code",
   "execution_count": 492,
   "metadata": {},
   "outputs": [
    {
     "name": "stdout",
     "output_type": "stream",
     "text": [
      "Requirement already satisfied: xgboost in c:\\python\\python312\\lib\\site-packages (2.1.3)\n",
      "Requirement already satisfied: numpy in c:\\python\\python312\\lib\\site-packages (from xgboost) (1.26.4)\n",
      "Requirement already satisfied: scipy in c:\\python\\python312\\lib\\site-packages (from xgboost) (1.14.1)\n"
     ]
    },
    {
     "name": "stdout",
     "output_type": "stream",
     "text": [
      "      nqScore1  nqScore2  nqScore3  nqScore4  nqScore5  nqScore6  nqScore7  \\\n",
      "ID                                                                           \n",
      "1000  0.141436  0.157953  0.150272  0.155821  0.143659  0.150929  0.139416   \n",
      "1001  0.125310  0.116817  0.107903  0.115031  0.116398  0.123744  0.112652   \n",
      "1002  0.074763  0.065527  0.068538  0.070325  0.067903  0.067374  0.071617   \n",
      "1004  0.097159  0.109232  0.107456  0.115196  0.112371  0.117516  0.116546   \n",
      "1005  0.103176  0.097032  0.099837  0.090197  0.095195  0.097082  0.096710   \n",
      "\n",
      "      nqScore8  nqScore9  nqScore10  ...  nqScore20  nqScore21  nqScore22  \\\n",
      "ID                                   ...                                    \n",
      "1000  0.144613  0.150546   0.149905  ...   0.136705   0.137338   0.136029   \n",
      "1001  0.107873  0.105300   0.113291  ...   0.108465   0.110062   0.111881   \n",
      "1002  0.070896  0.066496   0.072498  ...   0.073788   0.070348   0.068457   \n",
      "1004  0.117373  0.114511   0.113191  ...   0.125619   0.122992   0.130536   \n",
      "1005  0.094365  0.093439   0.089521  ...   0.091088   0.090159   0.091907   \n",
      "\n",
      "      nqScore23  nqScore24  nqScore25  nqScore26  nqScore27  nqScore28  \\\n",
      "ID                                                                       \n",
      "1000   0.136336   0.131800   0.148000   0.161533   0.156833   0.147565   \n",
      "1001   0.107652   0.111732   0.111024   0.104638   0.101804   0.108449   \n",
      "1002   0.066650   0.068327   0.069742   0.068786   0.069781   0.072065   \n",
      "1004   0.127429   0.120373   0.122850   0.125297   0.129004   0.114308   \n",
      "1005   0.092210   0.090817   0.089571   0.087088   0.093828   0.088326   \n",
      "\n",
      "      nqScore29  \n",
      "ID               \n",
      "1000   0.151883  \n",
      "1001   0.104636  \n",
      "1002   0.067256  \n",
      "1004   0.135860  \n",
      "1005   0.083100  \n",
      "\n",
      "[5 rows x 29 columns]\n",
      "Cálculo de nqScores completado y guardado en 'nqScores_pacientes05seg.csv'.\n"
     ]
    }
   ],
   "source": [
    "\n",
    "\n",
    "# Procesar cada archivo CSV en la carpeta de pacientes\n",
    "for archivo in os.listdir(carpeta_csv):\n",
    "    if archivo.endswith('.csv'):\n",
    "        # Extraer el ID del paciente desde el nombre del archivo\n",
    "        id_paciente = archivo.split('.')[0]\n",
    "\n",
    "        # Leer el archivo de datos del paciente\n",
    "        ruta_archivo = os.path.join(carpeta_csv, archivo)\n",
    "        df = pd.read_csv(ruta_archivo)\n",
    "\n",
    "        # Lista para almacenar los nqScores de cada intervalo del paciente\n",
    "        nqScores = []\n",
    "\n",
    "        # Validar la existencia de datos en la columna clave\n",
    "        if 'Key Release Time (s)' not in df.columns or df['Key Release Time (s)'].isna().all():\n",
    "            print(f\"Advertencia: No se encontraron datos válidos para {id_paciente}.\")\n",
    "            nqScores_pacientes[id_paciente] = [None]\n",
    "            continue\n",
    "\n",
    "        # Dividir los datos en intervalos y calcular nqScore por intervalo\n",
    "        max_time = df['Key Release Time (s)'].max()\n",
    "        if max_time <= 0 or np.isnan(max_time):\n",
    "            print(f\"Advertencia: Tiempo máximo inválido para {id_paciente}.\")\n",
    "            nqScores_pacientes[id_paciente] = [None]\n",
    "            continue\n",
    "\n",
    "        # Verificar que intervalo_segundos sea mayor que 0\n",
    "        if intervalo_segundos <= 0:\n",
    "            raise ValueError(\"El intervalo debe ser un valor positivo mayor que 0.\")\n",
    "\n",
    "        # Usar np.arange para manejar intervalos decimales\n",
    "        for start_time in np.arange(0, max_time, intervalo_segundos):\n",
    "            end_time = start_time + intervalo_segundos\n",
    "            # Filtrar los datos del intervalo actual\n",
    "            intervalo_df = df[(df['Key Release Time (s)'] >= start_time) & \n",
    "                              (df['Key Release Time (s)'] < end_time)]\n",
    "\n",
    "            # Verifica que el intervalo no esté vacío antes de calcular\n",
    "            if not intervalo_df.empty:\n",
    "                # Calcular el nqScore usando el nuevo método\n",
    "                nqScore = calcular_nqScore(intervalo_df)\n",
    "                # Guardar el nqScore del intervalo en la lista del paciente\n",
    "                nqScores.append(nqScore)\n",
    "            else:\n",
    "                # Agregar un valor nulo si el intervalo está vacío\n",
    "                nqScores.append(None)\n",
    "\n",
    "        # Guardar la lista de nqScores en el diccionario con el ID del paciente como clave\n",
    "        nqScores_pacientes[id_paciente] = nqScores\n",
    "\n",
    "# Convertir el diccionario en un DataFrame, con el ID como primera columna\n",
    "resultados_df = pd.DataFrame.from_dict(nqScores_pacientes, orient='index')\n",
    "resultados_df.index.name = 'ID'\n",
    "\n",
    "# Renombrar las columnas como nqScore1, nqScore2, ..., nqScoreN\n",
    "resultados_df.columns = [f'nqScore{i+1}' for i in range(resultados_df.shape[1])]\n",
    "\n",
    "# Mostrar los primeros resultados para verificar\n",
    "print(resultados_df.head())\n",
    "\n",
    "# Guardar el DataFrame en un archivo CSV\n",
    "resultados_df.to_csv(excel)\n",
    "\n",
    "print(\"Cálculo de nqScores completado y guardado en 'nqScores_pacientes05seg.csv'.\")\n"
   ]
  },
  {
   "cell_type": "code",
   "execution_count": 493,
   "metadata": {},
   "outputs": [
    {
     "data": {
      "image/png": "[encoded data removed]",
      "text/plain": [
       "<Figure size 1000x600 with 1 Axes>"
      ]
     },
     "metadata": {},
     "output_type": "display_data"
    }
   ],
   "source": [
    "# Cargar el archivo de nqScores de los pacientes\n",
    "nqScores_df = pd.read_csv(excel, index_col='ID')\n",
    "\n",
    "# IDs de pacientes para comparar\n",
    "#falso\n",
    "paciente1_id = 85\n",
    "#verdadero\n",
    "paciente2_id = 1025\n",
    "\n",
    "# Verificar si los IDs están en el DataFrame\n",
    "if paciente1_id in nqScores_df.index and paciente2_id in nqScores_df.index:\n",
    "    # Extraer los nqScores de los pacientes seleccionados\n",
    "    nqScores_paciente1 = nqScores_df.loc[paciente1_id].dropna().values\n",
    "    nqScores_paciente2 = nqScores_df.loc[paciente2_id].dropna().values\n",
    "\n",
    "    # Graficar los nqScores de ambos pacientes\n",
    "    plt.figure(figsize=(10, 6))\n",
    "    plt.plot(nqScores_paciente1, label=f'Paciente {paciente1_id}', marker='o')\n",
    "    plt.plot(nqScores_paciente2, label=f'Paciente {paciente2_id}', marker='o')\n",
    "    plt.xlabel('Intervalo')\n",
    "    plt.ylabel('nqScore')\n",
    "    plt.title('Comparación de nqScores entre dos pacientes')\n",
    "    plt.legend()\n",
    "    plt.grid(True)\n",
    "    plt.show()\n",
    "else:\n",
    "    print(f\"Uno o ambos IDs no están en el archivo: {paciente1_id}, {paciente2_id}\")\n"
   ]
  },
  {
   "cell_type": "markdown",
   "metadata": {},
   "source": [
    "# GRU "
   ]
  },
  {
   "cell_type": "code",
   "execution_count": 494,
   "metadata": {},
   "outputs": [
    {
     "name": "stdout",
     "output_type": "stream",
     "text": [
      "\n",
      "Resultados de la unión:\n",
      "   pID     gt  typingSpeed  ID  nqScore1  nqScore2  nqScore3  nqScore4  \\\n",
      "0   11   True   189.372549  11  0.106905  0.108280  0.102963  0.108057   \n",
      "1   60  False    60.533333  60  0.118848  0.106217  0.112913  0.113135   \n",
      "2   67   True    54.333333  67  0.195680  0.167500  0.203582  0.195286   \n",
      "3   68  False    71.800000  68  0.153121  0.156752  0.156717  0.158086   \n",
      "4   70   True    39.614035  70  0.180138  0.165993  0.177700  0.187867   \n",
      "\n",
      "   nqScore5  nqScore6  ...  nqScore20  nqScore21  nqScore22  nqScore23  \\\n",
      "0  0.098736  0.097223  ...   0.100352   0.116845   0.112400   0.094945   \n",
      "1  0.117514  0.127814  ...   0.112174   0.121142   0.136713   0.126173   \n",
      "2  0.217133  0.216474  ...   0.208810   0.227060   0.224500   0.226882   \n",
      "3  0.158100  0.158859  ...   0.154596   0.158456   0.154452   0.154979   \n",
      "4  0.190923  0.185880  ...   0.178933   0.181700   0.209885   0.224400   \n",
      "\n",
      "   nqScore24  nqScore25  nqScore26  nqScore27  nqScore28  nqScore29  \n",
      "0   0.099736   0.105300   0.098631   0.108998   0.098803   0.098411  \n",
      "1   0.128605   0.124330   0.133200   0.131400   0.127747        NaN  \n",
      "2   0.242200   0.191050   0.191948   0.193450   0.212785   0.151400  \n",
      "3   0.163517   0.152792   0.155119   0.151145   0.155300   0.150200  \n",
      "4   0.180747   0.178878   0.191767   0.183933   0.187533   0.185925  \n",
      "\n",
      "[5 rows x 33 columns]\n",
      "\n",
      "Valores faltantes en merged_df:\n",
      "pID            0\n",
      "gt             0\n",
      "typingSpeed    0\n",
      "ID             0\n",
      "nqScore1       0\n",
      "nqScore2       0\n",
      "nqScore3       1\n",
      "nqScore4       0\n",
      "nqScore5       0\n",
      "nqScore6       0\n",
      "nqScore7       0\n",
      "nqScore8       0\n",
      "nqScore9       0\n",
      "nqScore10      0\n",
      "nqScore11      0\n",
      "nqScore12      0\n",
      "nqScore13      1\n",
      "nqScore14      0\n",
      "nqScore15      1\n",
      "nqScore16      0\n",
      "nqScore17      1\n",
      "nqScore18      0\n",
      "nqScore19      1\n",
      "nqScore20      1\n",
      "nqScore21      1\n",
      "nqScore22      0\n",
      "nqScore23      0\n",
      "nqScore24      0\n",
      "nqScore25      1\n",
      "nqScore26      1\n",
      "nqScore27      3\n",
      "nqScore28      1\n",
      "nqScore29      7\n",
      "dtype: int64\n"
     ]
    }
   ],
   "source": [
    "# Cargar los archivos\n",
    "datos_df = pd.read_csv('datos.csv')  # Datos del paciente\n",
    "nqScores_df = pd.read_csv(excel)  # Scores calculados\n",
    "\n",
    "# Unir los datos usando una unión externa para ver discrepancias\n",
    "merged_df = pd.merge(datos_df, nqScores_df, left_on='pID', right_on='ID', how='outer')\n",
    "\n",
    "# Verifica la unión\n",
    "print(\"\\nResultados de la unión:\")\n",
    "print(merged_df.head())\n",
    "\n",
    "# Mostrar cualquier discrepancia en los datos\n",
    "print(\"\\nValores faltantes en merged_df:\")\n",
    "print(merged_df.isnull().sum())\n"
   ]
  },
  {
   "cell_type": "code",
   "execution_count": 495,
   "metadata": {},
   "outputs": [
    {
     "name": "stdout",
     "output_type": "stream",
     "text": [
      "\n",
      "Valores faltantes después de rellenar:\n",
      "pID            0\n",
      "gt             0\n",
      "typingSpeed    0\n",
      "ID             0\n",
      "nqScore1       0\n",
      "nqScore2       0\n",
      "nqScore3       0\n",
      "nqScore4       0\n",
      "nqScore5       0\n",
      "nqScore6       0\n",
      "nqScore7       0\n",
      "nqScore8       0\n",
      "nqScore9       0\n",
      "nqScore10      0\n",
      "nqScore11      0\n",
      "nqScore12      0\n",
      "nqScore13      0\n",
      "nqScore14      0\n",
      "nqScore15      0\n",
      "nqScore16      0\n",
      "nqScore17      0\n",
      "nqScore18      0\n",
      "nqScore19      0\n",
      "nqScore20      0\n",
      "nqScore21      0\n",
      "nqScore22      0\n",
      "nqScore23      0\n",
      "nqScore24      0\n",
      "nqScore25      0\n",
      "nqScore26      0\n",
      "nqScore27      0\n",
      "nqScore28      0\n",
      "nqScore29      0\n",
      "dtype: int64\n"
     ]
    }
   ],
   "source": [
    "# Rellenar valores faltantes con la media de cada columna\n",
    "merged_df.fillna(merged_df.mean(), inplace=True)\n",
    "\n",
    "# Verifica que ya no hay valores faltantes\n",
    "print(\"\\nValores faltantes después de rellenar:\")\n",
    "print(merged_df.isnull().sum())"
   ]
  },
  {
   "cell_type": "code",
   "execution_count": 496,
   "metadata": {},
   "outputs": [
    {
     "name": "stdout",
     "output_type": "stream",
     "text": [
      "Tamaño del conjunto de entrenamiento: 68\n",
      "Tamaño del conjunto de prueba: 17\n"
     ]
    }
   ],
   "source": [
    "merged_df['gt'] = merged_df['gt'].astype(int)\n",
    "# Separar las características (X) y la variable objetivo (y)\n",
    "X = merged_df.filter(regex='^nqScore')  # Eliminar columnas no necesarias\n",
    "y = merged_df['gt'].values  # Variable objetivo\n",
    "\n",
    "# Redimensionar X para que tenga la forma (muestras, tiempo, características)\n",
    "# Aquí cada paciente es una muestra, el tiempo es la secuencia de nqScores y la característica es solo 1 (el nqScore en cada intervalo)\n",
    "X = X.values.reshape(X.shape[0], X.shape[1], 1)\n",
    "\n",
    "#Dividir los datos en conjuntos de entrenamiento y prueba\n",
    "X_train, X_test, y_train, y_test = train_test_split(X, y, test_size=0.2, random_state=42)\n",
    "\n",
    "# Verifica las dimensiones de los conjuntos\n",
    "print(f'Tamaño del conjunto de entrenamiento: {X_train.shape[0]}')\n",
    "print(f'Tamaño del conjunto de prueba: {X_test.shape[0]}')"
   ]
  },
  {
   "cell_type": "code",
   "execution_count": 497,
   "metadata": {},
   "outputs": [
    {
     "name": "stdout",
     "output_type": "stream",
     "text": [
      "Epoch 1/20\n"
     ]
    },
    {
     "name": "stderr",
     "output_type": "stream",
     "text": [
      "c:\\Python\\Python312\\Lib\\site-packages\\keras\\src\\layers\\rnn\\rnn.py:204: UserWarning: Do not pass an `input_shape`/`input_dim` argument to a layer. When using Sequential models, prefer using an `Input(shape)` object as the first layer in the model instead.\n",
      "  super().__init__(**kwargs)\n"
     ]
    },
    {
     "name": "stdout",
     "output_type": "stream",
     "text": [
      "\u001b[1m5/5\u001b[0m \u001b[32m━━━━━━━━━━━━━━━━━━━━\u001b[0m\u001b[37m\u001b[0m \u001b[1m2s\u001b[0m 208ms/step - accuracy: 0.3563 - loss: 0.6943 - val_accuracy: 0.3529 - val_loss: 0.6943\n",
      "Epoch 2/20\n",
      "\u001b[1m5/5\u001b[0m \u001b[32m━━━━━━━━━━━━━━━━━━━━\u001b[0m\u001b[37m\u001b[0m \u001b[1m0s\u001b[0m 10ms/step - accuracy: 0.5251 - loss: 0.6919 - val_accuracy: 0.3529 - val_loss: 0.6982\n",
      "Epoch 3/20\n",
      "\u001b[1m5/5\u001b[0m \u001b[32m━━━━━━━━━━━━━━━━━━━━\u001b[0m\u001b[37m\u001b[0m \u001b[1m0s\u001b[0m 10ms/step - accuracy: 0.5147 - loss: 0.6922 - val_accuracy: 0.3529 - val_loss: 0.6991\n",
      "Epoch 4/20\n",
      "\u001b[1m5/5\u001b[0m \u001b[32m━━━━━━━━━━━━━━━━━━━━\u001b[0m\u001b[37m\u001b[0m \u001b[1m0s\u001b[0m 11ms/step - accuracy: 0.5746 - loss: 0.6888 - val_accuracy: 0.3529 - val_loss: 0.7034\n",
      "Epoch 5/20\n",
      "\u001b[1m5/5\u001b[0m \u001b[32m━━━━━━━━━━━━━━━━━━━━\u001b[0m\u001b[37m\u001b[0m \u001b[1m0s\u001b[0m 11ms/step - accuracy: 0.5451 - loss: 0.6894 - val_accuracy: 0.3529 - val_loss: 0.7061\n",
      "Epoch 6/20\n",
      "\u001b[1m5/5\u001b[0m \u001b[32m━━━━━━━━━━━━━━━━━━━━\u001b[0m\u001b[37m\u001b[0m \u001b[1m0s\u001b[0m 10ms/step - accuracy: 0.6067 - loss: 0.6827 - val_accuracy: 0.3529 - val_loss: 0.7098\n",
      "Epoch 7/20\n",
      "\u001b[1m5/5\u001b[0m \u001b[32m━━━━━━━━━━━━━━━━━━━━\u001b[0m\u001b[37m\u001b[0m \u001b[1m0s\u001b[0m 10ms/step - accuracy: 0.5868 - loss: 0.6822 - val_accuracy: 0.3529 - val_loss: 0.7071\n",
      "Epoch 8/20\n",
      "\u001b[1m5/5\u001b[0m \u001b[32m━━━━━━━━━━━━━━━━━━━━\u001b[0m\u001b[37m\u001b[0m \u001b[1m0s\u001b[0m 10ms/step - accuracy: 0.5755 - loss: 0.6828 - val_accuracy: 0.3529 - val_loss: 0.7044\n",
      "Epoch 9/20\n",
      "\u001b[1m5/5\u001b[0m \u001b[32m━━━━━━━━━━━━━━━━━━━━\u001b[0m\u001b[37m\u001b[0m \u001b[1m0s\u001b[0m 10ms/step - accuracy: 0.5034 - loss: 0.6902 - val_accuracy: 0.4118 - val_loss: 0.6994\n",
      "Epoch 10/20\n",
      "\u001b[1m5/5\u001b[0m \u001b[32m━━━━━━━━━━━━━━━━━━━━\u001b[0m\u001b[37m\u001b[0m \u001b[1m0s\u001b[0m 11ms/step - accuracy: 0.4635 - loss: 0.6906 - val_accuracy: 0.3529 - val_loss: 0.7027\n",
      "Epoch 11/20\n",
      "\u001b[1m5/5\u001b[0m \u001b[32m━━━━━━━━━━━━━━━━━━━━\u001b[0m\u001b[37m\u001b[0m \u001b[1m0s\u001b[0m 11ms/step - accuracy: 0.5477 - loss: 0.6838 - val_accuracy: 0.3529 - val_loss: 0.7161\n",
      "Epoch 12/20\n",
      "\u001b[1m5/5\u001b[0m \u001b[32m━━━━━━━━━━━━━━━━━━━━\u001b[0m\u001b[37m\u001b[0m \u001b[1m0s\u001b[0m 11ms/step - accuracy: 0.5850 - loss: 0.6743 - val_accuracy: 0.3529 - val_loss: 0.7328\n",
      "Epoch 13/20\n",
      "\u001b[1m5/5\u001b[0m \u001b[32m━━━━━━━━━━━━━━━━━━━━\u001b[0m\u001b[37m\u001b[0m \u001b[1m0s\u001b[0m 11ms/step - accuracy: 0.5347 - loss: 0.6864 - val_accuracy: 0.3529 - val_loss: 0.7325\n",
      "Epoch 14/20\n",
      "\u001b[1m5/5\u001b[0m \u001b[32m━━━━━━━━━━━━━━━━━━━━\u001b[0m\u001b[37m\u001b[0m \u001b[1m0s\u001b[0m 11ms/step - accuracy: 0.5451 - loss: 0.6812 - val_accuracy: 0.3529 - val_loss: 0.7242\n",
      "Epoch 15/20\n",
      "\u001b[1m5/5\u001b[0m \u001b[32m━━━━━━━━━━━━━━━━━━━━\u001b[0m\u001b[37m\u001b[0m \u001b[1m0s\u001b[0m 11ms/step - accuracy: 0.5043 - loss: 0.6864 - val_accuracy: 0.4118 - val_loss: 0.7094\n",
      "Epoch 16/20\n",
      "\u001b[1m5/5\u001b[0m \u001b[32m━━━━━━━━━━━━━━━━━━━━\u001b[0m\u001b[37m\u001b[0m \u001b[1m0s\u001b[0m 12ms/step - accuracy: 0.5934 - loss: 0.6656 - val_accuracy: 0.4706 - val_loss: 0.7186\n",
      "Epoch 17/20\n",
      "\u001b[1m5/5\u001b[0m \u001b[32m━━━━━━━━━━━━━━━━━━━━\u001b[0m\u001b[37m\u001b[0m \u001b[1m0s\u001b[0m 11ms/step - accuracy: 0.5641 - loss: 0.6580 - val_accuracy: 0.5294 - val_loss: 0.6690\n",
      "Epoch 18/20\n",
      "\u001b[1m5/5\u001b[0m \u001b[32m━━━━━━━━━━━━━━━━━━━━\u001b[0m\u001b[37m\u001b[0m \u001b[1m0s\u001b[0m 12ms/step - accuracy: 0.6769 - loss: 0.6285 - val_accuracy: 0.6471 - val_loss: 0.6183\n",
      "Epoch 19/20\n",
      "\u001b[1m5/5\u001b[0m \u001b[32m━━━━━━━━━━━━━━━━━━━━\u001b[0m\u001b[37m\u001b[0m \u001b[1m0s\u001b[0m 11ms/step - accuracy: 0.6980 - loss: 0.6308 - val_accuracy: 0.5882 - val_loss: 0.5995\n",
      "Epoch 20/20\n",
      "\u001b[1m5/5\u001b[0m \u001b[32m━━━━━━━━━━━━━━━━━━━━\u001b[0m\u001b[37m\u001b[0m \u001b[1m0s\u001b[0m 11ms/step - accuracy: 0.5842 - loss: 0.6617 - val_accuracy: 0.8235 - val_loss: 0.5936\n",
      "\u001b[1m1/1\u001b[0m \u001b[32m━━━━━━━━━━━━━━━━━━━━\u001b[0m\u001b[37m\u001b[0m \u001b[1m0s\u001b[0m 37ms/step - accuracy: 0.8235 - loss: 0.5936\n"
     ]
    },
    {
     "name": "stderr",
     "output_type": "stream",
     "text": [
      "WARNING:absl:You are saving your model as an HDF5 file via `model.save()` or `keras.saving.save_model(model)`. This file format is considered legacy. We recommend using instead the native Keras format, e.g. `model.save('my_model.keras')` or `keras.saving.save_model(model, 'my_model.keras')`. \n"
     ]
    }
   ],
   "source": [
    "# Crear el modelo GRU\n",
    "model = Sequential()\n",
    "model.add(GRU(64, input_shape=(X_train.shape[1], X_train.shape[2]), return_sequences=False))\n",
    "model.add(Dense(1, activation='sigmoid'))  # Activación sigmoide para salida binaria\n",
    "\n",
    "model.compile(optimizer='adam', loss='binary_crossentropy', metrics=['accuracy'])\n",
    "\n",
    "# Entrenar el modelo\n",
    "model.fit(X_train, y_train, epochs=20, batch_size=16, validation_data=(X_test, y_test))\n",
    "\n",
    "# Evaluar el modelo\n",
    "loss, accuracy = model.evaluate(X_test, y_test)\n",
    "\n",
    "model.save(modelo)"
   ]
  },
  {
   "cell_type": "code",
   "execution_count": 498,
   "metadata": {},
   "outputs": [
    {
     "name": "stderr",
     "output_type": "stream",
     "text": [
      "WARNING:absl:Compiled the loaded model, but the compiled metrics have yet to be built. `model.compile_metrics` will be empty until you train or evaluate the model.\n"
     ]
    },
    {
     "name": "stdout",
     "output_type": "stream",
     "text": [
      "\u001b[1m1/1\u001b[0m \u001b[32m━━━━━━━━━━━━━━━━━━━━\u001b[0m\u001b[37m\u001b[0m \u001b[1m0s\u001b[0m 291ms/step - accuracy: 0.8235 - loss: 0.5936\n",
      "\u001b[1m1/1\u001b[0m \u001b[32m━━━━━━━━━━━━━━━━━━━━\u001b[0m\u001b[37m\u001b[0m \u001b[1m0s\u001b[0m 115ms/step\n",
      "Reporte de clasificación con el modelo cargado: 82.35%\n",
      "              precision    recall  f1-score   support\n",
      "\n",
      "       False       0.80      0.67      0.73         6\n",
      "        True       0.83      0.91      0.87        11\n",
      "\n",
      "    accuracy                           0.82        17\n",
      "   macro avg       0.82      0.79      0.80        17\n",
      "weighted avg       0.82      0.82      0.82        17\n",
      "\n",
      "Matriz de Confusión:\n",
      "[[ 4  2]\n",
      " [ 1 10]]\n"
     ]
    },
    {
     "data": {
      "image/png": "[encoded data removed]",
      "text/plain": [
       "<Figure size 640x480 with 2 Axes>"
      ]
     },
     "metadata": {},
     "output_type": "display_data"
    }
   ],
   "source": [
    "# Cargar el modelo guardado\n",
    "model = load_model(modelo)\n",
    "\n",
    "# Evaluar el modelo cargado\n",
    "loss, accuracy = model.evaluate(X_test, y_test)\n",
    "\n",
    "\n",
    "# Predecir las etiquetas para el conjunto de prueba\n",
    "y_pred = model.predict(X_test)\n",
    "y_pred_classes = (y_pred > 0.5).astype(int)  # Convertir probabilidades a clases\n",
    "\n",
    "# Generar y mostrar el reporte de clasificación\n",
    "report = classification_report(y_test, y_pred_classes, target_names=['False', 'True'])\n",
    "print(f\"Reporte de clasificación con el modelo cargado: {accuracy * 100:.2f}%\")\n",
    "print(report)\n",
    "# Calcular la matriz de confusión\n",
    "cm = confusion_matrix(y_test, y_pred_classes)\n",
    "\n",
    "# Mostrar la matriz de confusión\n",
    "print(\"Matriz de Confusión:\")\n",
    "print(cm)\n",
    "\n",
    "# Visualizar la matriz de confusión\n",
    "disp = ConfusionMatrixDisplay(confusion_matrix=cm, display_labels=['Sin Parkinson', 'Con Parkinson'])\n",
    "disp.plot(cmap=plt.cm.Blues)\n",
    "plt.title('Matriz de Confusión')\n",
    "plt.show()"
   ]
  },
  {
   "cell_type": "code",
   "execution_count": 499,
   "metadata": {},
   "outputs": [
    {
     "data": {
      "image/png": "[encoded data removed]",
      "text/plain": [
       "<Figure size 800x500 with 1 Axes>"
      ]
     },
     "metadata": {},
     "output_type": "display_data"
    }
   ],
   "source": [
    "# Cargar los datos\n",
    "datos_df = pd.read_csv('datos.csv')  \n",
    "\n",
    "# Contar la cantidad de pacientes con y sin Parkinson\n",
    "conteo_pacientes = datos_df['gt'].value_counts()\n",
    "\n",
    "# Preparar los datos para la gráfica\n",
    "etiquetas = ['Sin Parkinson', 'Con Parkinson']\n",
    "cantidades = [conteo_pacientes.get(False, 0), conteo_pacientes.get(True, 0)]\n",
    "\n",
    "# Crear un gráfico de barras\n",
    "plt.figure(figsize=(8, 5))\n",
    "plt.bar(etiquetas, cantidades, color=['blue', 'orange'])\n",
    "plt.title('Cantidad de Pacientes con y Sin Parkinson')\n",
    "plt.xlabel('Estado')\n",
    "plt.ylabel('Número de Pacientes')\n",
    "plt.xticks(rotation=0)\n",
    "\n",
    "plt.show()"
   ]
  },
  {
   "cell_type": "markdown",
   "metadata": {},
   "source": [
    "# Random forest"
   ]
  },
  {
   "cell_type": "code",
   "execution_count": 500,
   "metadata": {},
   "outputs": [],
   "source": [
    "from sklearn.model_selection import train_test_split\n",
    "from sklearn.ensemble import RandomForestClassifier\n",
    "from sklearn.metrics import classification_report, confusion_matrix, accuracy_score\n",
    "\n",
    "# Separar las características y la variable objetivo\n",
    "X = merged_df.filter(regex='^nqScore').values  # Convertir en un array numpy\n",
    "y = merged_df['gt'].values  # Etiquetas objetivo\n",
    "\n",
    "# Dividir en conjuntos de entrenamiento y prueba\n",
    "X_train, X_test, y_train, y_test = train_test_split(X, y, test_size=0.2, random_state=42)\n"
   ]
  },
  {
   "cell_type": "code",
   "execution_count": 501,
   "metadata": {},
   "outputs": [],
   "source": [
    "# Crear el modelo Random Forest\n",
    "rf_model = RandomForestClassifier(n_estimators=100, random_state=42)\n",
    "\n",
    "# Entrenar el modelo\n",
    "rf_model.fit(X_train, y_train)\n",
    "\n",
    "# Predecir en el conjunto de prueba\n",
    "y_pred = rf_model.predict(X_test)\n"
   ]
  },
  {
   "cell_type": "code",
   "execution_count": 502,
   "metadata": {},
   "outputs": [
    {
     "name": "stdout",
     "output_type": "stream",
     "text": [
      "Precisión del modelo: 47.06%\n",
      "\n",
      "Reporte de clasificación:\n",
      "              precision    recall  f1-score   support\n",
      "\n",
      "           0       0.38      0.83      0.53         6\n",
      "           1       0.75      0.27      0.40        11\n",
      "\n",
      "    accuracy                           0.47        17\n",
      "   macro avg       0.57      0.55      0.46        17\n",
      "weighted avg       0.62      0.47      0.44        17\n",
      "\n",
      "\n",
      "Matriz de confusión:\n",
      "[[5 1]\n",
      " [8 3]]\n"
     ]
    }
   ],
   "source": [
    "# Métricas de desempeño\n",
    "accuracy = accuracy_score(y_test, y_pred)\n",
    "print(f\"Precisión del modelo: {accuracy * 100:.2f}%\")\n",
    "\n",
    "# Reporte de clasificación\n",
    "print(\"\\nReporte de clasificación:\")\n",
    "print(classification_report(y_test, y_pred))\n",
    "\n",
    "# Matriz de confusión\n",
    "print(\"\\nMatriz de confusión:\")\n",
    "cm = confusion_matrix(y_test, y_pred)\n",
    "print(cm)\n"
   ]
  },
  {
   "cell_type": "markdown",
   "metadata": {},
   "source": [
    "# xtream gradiant boosteam"
   ]
  },
  {
   "cell_type": "code",
   "execution_count": null,
   "metadata": {},
   "outputs": [
    {
     "name": "stdout",
     "output_type": "stream",
     "text": [
      "Requirement already satisfied: xgboost in c:\\python\\python312\\lib\\site-packages (2.1.3)\n",
      "Requirement already satisfied: numpy in c:\\python\\python312\\lib\\site-packages (from xgboost) (1.26.4)\n",
      "Requirement already satisfied: scipy in c:\\python\\python312\\lib\\site-packages (from xgboost) (1.14.1)\n",
      "Note: you may need to restart the kernel to use updated packages.\n"
     ]
    }
   ],
   "source": [
    "#pip install xgboost\n"
   ]
  },
  {
   "cell_type": "code",
   "execution_count": 504,
   "metadata": {},
   "outputs": [],
   "source": [
    "from sklearn.model_selection import train_test_split\n",
    "\n",
    "# Separar características y etiquetas\n",
    "X = merged_df.filter(regex='^nqScore').values  # Características (nqScores)\n",
    "y = merged_df['gt'].values  # Etiquetas objetivo\n",
    "\n",
    "# Dividir en conjuntos de entrenamiento y prueba\n",
    "X_train, X_test, y_train, y_test = train_test_split(X, y, test_size=0.2, random_state=42)\n"
   ]
  },
  {
   "cell_type": "code",
   "execution_count": 505,
   "metadata": {},
   "outputs": [],
   "source": [
    "from xgboost import XGBClassifier\n",
    "from sklearn.metrics import classification_report, confusion_matrix, accuracy_score\n",
    "\n",
    "# Crear el modelo XGBoost\n",
    "xgb_model = XGBClassifier(\n",
    "    n_estimators=100,       # Número de árboles\n",
    "    max_depth=6,            # Profundidad máxima de los árboles\n",
    "    learning_rate=0.1,      # Tasa de aprendizaje\n",
    "    subsample=0.8,          # Porcentaje de muestras utilizadas por árbol\n",
    "    colsample_bytree=0.8,   # Porcentaje de características usadas por árbol\n",
    "    random_state=42\n",
    ")\n",
    "\n",
    "# Entrenar el modelo\n",
    "xgb_model.fit(X_train, y_train)\n",
    "\n",
    "# Predecir en el conjunto de prueba\n",
    "y_pred = xgb_model.predict(X_test)\n"
   ]
  },
  {
   "cell_type": "code",
   "execution_count": 506,
   "metadata": {},
   "outputs": [
    {
     "name": "stdout",
     "output_type": "stream",
     "text": [
      "Precisión del modelo: 64.71%\n",
      "\n",
      "Reporte de clasificación:\n",
      "              precision    recall  f1-score   support\n",
      "\n",
      "           0       0.50      1.00      0.67         6\n",
      "           1       1.00      0.45      0.62        11\n",
      "\n",
      "    accuracy                           0.65        17\n",
      "   macro avg       0.75      0.73      0.65        17\n",
      "weighted avg       0.82      0.65      0.64        17\n",
      "\n",
      "\n",
      "Matriz de confusión:\n",
      "[[6 0]\n",
      " [6 5]]\n"
     ]
    }
   ],
   "source": [
    "# Calcular métricas de desempeño\n",
    "accuracy = accuracy_score(y_test, y_pred)\n",
    "print(f\"Precisión del modelo: {accuracy * 100:.2f}%\")\n",
    "\n",
    "# Generar un reporte de clasificación\n",
    "print(\"\\nReporte de clasificación:\")\n",
    "print(classification_report(y_test, y_pred))\n",
    "\n",
    "# Calcular la matriz de confusión\n",
    "print(\"\\nMatriz de confusión:\")\n",
    "cm = confusion_matrix(y_test, y_pred)\n",
    "print(cm)\n"
   ]
  },
  {
   "cell_type": "markdown",
   "metadata": {},
   "source": [
    "# svm"
   ]
  },
  {
   "cell_type": "code",
   "execution_count": 507,
   "metadata": {},
   "outputs": [],
   "source": [
    "from sklearn.model_selection import train_test_split\n",
    "\n",
    "# Separar características (nqScores) y etiquetas (gt)\n",
    "X = merged_df.filter(regex='^nqScore').values\n",
    "y = merged_df['gt'].values\n",
    "\n",
    "# Dividir los datos en entrenamiento y prueba\n",
    "X_train, X_test, y_train, y_test = train_test_split(X, y, test_size=0.2, random_state=42)\n"
   ]
  },
  {
   "cell_type": "code",
   "execution_count": 508,
   "metadata": {},
   "outputs": [],
   "source": [
    "from sklearn.preprocessing import StandardScaler\n",
    "\n",
    "# Escalar los datos\n",
    "scaler = StandardScaler()\n",
    "X_train = scaler.fit_transform(X_train)\n",
    "X_test = scaler.transform(X_test)\n"
   ]
  },
  {
   "cell_type": "code",
   "execution_count": 509,
   "metadata": {},
   "outputs": [],
   "source": [
    "from sklearn.svm import SVC\n",
    "from sklearn.metrics import classification_report, confusion_matrix, accuracy_score\n",
    "\n",
    "# Crear el modelo SVM con kernel RBF\n",
    "svm_model = SVC(kernel='rbf', C=1.0, gamma='scale', random_state=42)\n",
    "\n",
    "# Entrenar el modelo\n",
    "svm_model.fit(X_train, y_train)\n",
    "\n",
    "# Predecir en el conjunto de prueba\n",
    "y_pred = svm_model.predict(X_test)\n"
   ]
  },
  {
   "cell_type": "code",
   "execution_count": 510,
   "metadata": {},
   "outputs": [
    {
     "name": "stdout",
     "output_type": "stream",
     "text": [
      "Precisión del modelo SVM: 52.94%\n",
      "\n",
      "Reporte de clasificación:\n",
      "              precision    recall  f1-score   support\n",
      "\n",
      "           0       0.43      1.00      0.60         6\n",
      "           1       1.00      0.27      0.43        11\n",
      "\n",
      "    accuracy                           0.53        17\n",
      "   macro avg       0.71      0.64      0.51        17\n",
      "weighted avg       0.80      0.53      0.49        17\n",
      "\n",
      "\n",
      "Matriz de confusión:\n",
      "[[6 0]\n",
      " [8 3]]\n"
     ]
    }
   ],
   "source": [
    "# Calcular precisión\n",
    "accuracy = accuracy_score(y_test, y_pred)\n",
    "print(f\"Precisión del modelo SVM: {accuracy * 100:.2f}%\")\n",
    "\n",
    "# Generar un reporte de clasificación\n",
    "print(\"\\nReporte de clasificación:\")\n",
    "print(classification_report(y_test, y_pred))\n",
    "\n",
    "# Matriz de confusión\n",
    "print(\"\\nMatriz de confusión:\")\n",
    "cm = confusion_matrix(y_test, y_pred)\n",
    "print(cm)\n"
   ]
  }
 ],
 "metadata": {
  "kernelspec": {
   "display_name": "Python 3",
   "language": "python",
   "name": "python3"
  },
  "language_info": {
   "codemirror_mode": {
    "name": "ipython",
    "version": 3
   },
   "file_extension": ".py",
   "mimetype": "text/x-python",
   "name": "python",
   "nbconvert_exporter": "python",
   "pygments_lexer": "ipython3",
   "version": "3.12.5"
  }
 },
 "nbformat": 4,
 "nbformat_minor": 2
}
